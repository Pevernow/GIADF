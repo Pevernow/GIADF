version https://git-lfs.github.com/spec/v1
oid sha256:87b5b3d633527ed6bcedf5dce7ba4a366948b8710d66a0cb9f8a575dd13ac131
size 232677
